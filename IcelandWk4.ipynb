{
 "cells": [
  {
   "cell_type": "markdown",
   "metadata": {},
   "source": [
    "## Business Problem"
   ]
  },
  {
   "cell_type": "markdown",
   "metadata": {},
   "source": [
    "\n",
    "LoadsOfFun is a travel company aim to deliver unforgettable short excursions to their customers. Their customer are usually people travel for business, they are in town for a short time either working or attending a conference, who usually have a day or half a day of free time to explore the country they are visiting, they want to make the most out of their limited free time but their busy schedule do not allow them to do research or plan ahead."
   ]
  },
  {
   "cell_type": "markdown",
   "metadata": {},
   "source": [
    "These customers will not join a regular tour at some fixed schedule, they want to see the major sights but after taking a memorable picture, they do not want to spend a full day there.  They want to experience what locals enjoy and emerge in their culture briefly and take back with them a memorable day-in-life of being a local."
   ]
  },
  {
   "cell_type": "markdown",
   "metadata": {},
   "source": [
    "LoadsOfFun decided to fill the gap by offering short excursions that delivers local cultural experience.  The product development team lead, Helga, forms a small team to work on a pilot tour package for customer trial.  Her team are composed of young IT professionals equipped with data science skills who are enthusiastic travelers themselves.  Helga picked the location Iceland, it is her hometown and is a place filled with adventurous venues, she is eager to see what her team can come up with.\n"
   ]
  },
  {
   "cell_type": "markdown",
   "metadata": {},
   "source": [
    "## How the Data is used to solve the problem"
   ]
  },
  {
   "cell_type": "markdown",
   "metadata": {},
   "source": [
    "The development team members have not personally traveled to Iceland before, to get some understanding of the country and what is there to do, they decided to get the data from the internet. They teams’ plan is as follow. \n"
   ]
  },
  {
   "cell_type": "markdown",
   "metadata": {},
   "source": [
    "1.\tGetting the postal code and city name of Iceland from website.\n",
    "2.\tGet the latitude and longitude of the city name. \n",
    "3.\tMerge the latitude and longitude data with postal code and city name in a data frame.\n",
    "4.\tGet the top 20 venues of each city from Foursquare using API.\n",
    "5.\tGet the category type of the venue.\n",
    "6.\tPerform Machine Learning on the city data using K-means. \n",
    "7.\tDisplay clusters of data on map.\n",
    "8.\tAnalyze the data to create the excursion."
   ]
  },
  {
   "cell_type": "markdown",
   "metadata": {},
   "source": [
    "\n",
    "For example:\n",
    "Location X has 10 venues categories, the development team can group it into several excursions each delivering it’s unique experience and discovery.\n",
    "\n",
    "The result will be reviewed by LoadsOfFun stakeholders who funded the project. The feedback is used to improve the pilot and develop the final product.\n",
    "\n",
    "If the pilot is successful, LoadsOfFun plans to develop similar day-trip packages in other country, starting in Europe and US and may be Asia.\n"
   ]
  },
  {
   "cell_type": "code",
   "execution_count": null,
   "metadata": {},
   "outputs": [],
   "source": []
  }
 ],
 "metadata": {
  "kernelspec": {
   "display_name": "Python 3",
   "language": "python",
   "name": "python3"
  },
  "language_info": {
   "codemirror_mode": {
    "name": "ipython",
    "version": 3
   },
   "file_extension": ".py",
   "mimetype": "text/x-python",
   "name": "python",
   "nbconvert_exporter": "python",
   "pygments_lexer": "ipython3",
   "version": "3.8.5"
  }
 },
 "nbformat": 4,
 "nbformat_minor": 4
}
